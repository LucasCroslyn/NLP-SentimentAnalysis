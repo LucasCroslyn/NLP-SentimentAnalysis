{
 "cells": [
  {
   "cell_type": "code",
   "execution_count": 1,
   "id": "04aeebad",
   "metadata": {},
   "outputs": [],
   "source": [
    "import classify\n",
    "import score"
   ]
  },
  {
   "cell_type": "markdown",
   "id": "bae9ab46",
   "metadata": {},
   "source": [
    "Getting all of the inputs"
   ]
  },
  {
   "cell_type": "code",
   "execution_count": 2,
   "id": "eecdb105",
   "metadata": {},
   "outputs": [],
   "source": [
    "train_texts = [x.strip() for x in open(\"Data/train.docs.txt\", encoding='utf8')]\n",
    "train_classes = [x.strip() for x in open(\"Data/train.classes.txt\", encoding='utf8')]\n",
    "test_texts = [x.strip() for x in open(\"Data/test.docs.txt\", encoding='utf8')]\n",
    "test_classes = [x.strip() for x in open(\"Data/test.classes.txt\", encoding='utf8')]\n",
    "pos_words = \"Data/pos-words.txt\"\n",
    "neg_words = \"Data/neg-words.txt\""
   ]
  },
  {
   "cell_type": "markdown",
   "id": "18883746",
   "metadata": {},
   "source": [
    "Setting up the classifiers"
   ]
  },
  {
   "cell_type": "code",
   "execution_count": 3,
   "id": "98b00d31",
   "metadata": {},
   "outputs": [],
   "source": [
    "baseline_classifier = classify.Baseline(train_classes=train_classes)\n",
    "lexicon_classifier = classify.Lexicon(pos_words=pos_words, neg_words=neg_words)\n",
    "logreg_classifier = classify.LogReg(texts=train_texts, classes=train_classes)\n",
    "naivebayes_classifier = classify.NaiveBayes(texts=train_texts, classes=train_classes)\n",
    "binary_naivebayes_classifier = classify.BinaryNaiveBayes(texts=train_texts, classes=train_classes)"
   ]
  },
  {
   "cell_type": "markdown",
   "id": "d43e5cce",
   "metadata": {},
   "source": [
    "Classifying the different testing documents with each classifier "
   ]
  },
  {
   "cell_type": "code",
   "execution_count": 4,
   "id": "097a0614",
   "metadata": {},
   "outputs": [],
   "source": [
    "baseline_results = [baseline_classifier.classify(x) for x in test_texts]\n",
    "lexicon_results = [lexicon_classifier.classify(x) for x in test_texts]\n",
    "logreg_results = [logreg_classifier.classify(x) for x in test_texts]\n",
    "naivebayes_results = [naivebayes_classifier.classify(x) for x in test_texts]\n",
    "binary_naivebayes_results = [binary_naivebayes_classifier.classify(x) for x in test_texts]"
   ]
  },
  {
   "cell_type": "markdown",
   "id": "3e9e35df",
   "metadata": {},
   "source": [
    "# Scores\n",
    "\n",
    "Getting the different statistics for each classifier on the testing documents"
   ]
  },
  {
   "cell_type": "markdown",
   "id": "a8d62cb8",
   "metadata": {},
   "source": [
    "Baseline classifier results (predict the most common class always)"
   ]
  },
  {
   "cell_type": "code",
   "execution_count": 6,
   "id": "cc9d24d9",
   "metadata": {},
   "outputs": [
    {
     "name": "stdout",
     "output_type": "stream",
     "text": [
      "WARNING: P undefined: Setting P to 0\n",
      "WARNING: F undefined: Setting F to 0\n",
      "Current class: positive\n",
      "Precision: 0\n",
      "Recall: 0\n",
      "F1-Score: 0\n",
      "\n",
      "WARNING: P undefined: Setting P to 0\n",
      "WARNING: F undefined: Setting F to 0\n",
      "Current class: neutral\n",
      "Precision: 0\n",
      "Recall: 0\n",
      "F1-Score: 0\n",
      "\n",
      "Current class: negative\n",
      "Precision: 0.67\n",
      "Recall: 0.67\n",
      "F1-Score: 0.67\n",
      "\n",
      "Accuracy: 0.67\n",
      "Macro averaged P: 0.223\n",
      "Macro averaged R: 0.333\n",
      "Macro averaged F: 0.267\n"
     ]
    }
   ],
   "source": [
    "score.score(baseline_results, test_classes)"
   ]
  },
  {
   "cell_type": "markdown",
   "id": "43cf10f0",
   "metadata": {},
   "source": [
    "Lexicon classifier results (tokens pre-defined as positive or negative)"
   ]
  },
  {
   "cell_type": "code",
   "execution_count": 7,
   "id": "47fc73c4",
   "metadata": {},
   "outputs": [
    {
     "name": "stdout",
     "output_type": "stream",
     "text": [
      "Current class: positive\n",
      "Precision: 0.308\n",
      "Recall: 0.308\n",
      "F1-Score: 0.308\n",
      "\n",
      "Current class: neutral\n",
      "Precision: 0.217\n",
      "Recall: 0.217\n",
      "F1-Score: 0.217\n",
      "\n",
      "Current class: negative\n",
      "Precision: 0.817\n",
      "Recall: 0.817\n",
      "F1-Score: 0.817\n",
      "\n",
      "Accuracy: 0.44\n",
      "Macro averaged P: 0.447\n",
      "Macro averaged R: 0.482\n",
      "Macro averaged F: 0.411\n"
     ]
    }
   ],
   "source": [
    "score.score(lexicon_results, test_classes)"
   ]
  },
  {
   "cell_type": "markdown",
   "id": "49d62c1d",
   "metadata": {},
   "source": [
    "Logistic Regression classifier results"
   ]
  },
  {
   "cell_type": "code",
   "execution_count": 8,
   "id": "25126e71",
   "metadata": {},
   "outputs": [
    {
     "name": "stdout",
     "output_type": "stream",
     "text": [
      "Current class: positive\n",
      "Precision: 0.343\n",
      "Recall: 0.343\n",
      "F1-Score: 0.343\n",
      "\n",
      "Current class: neutral\n",
      "Precision: 0.596\n",
      "Recall: 0.596\n",
      "F1-Score: 0.596\n",
      "\n",
      "Current class: negative\n",
      "Precision: 0.808\n",
      "Recall: 0.808\n",
      "F1-Score: 0.808\n",
      "\n",
      "Accuracy: 0.7\n",
      "Macro averaged P: 0.583\n",
      "Macro averaged R: 0.564\n",
      "Macro averaged F: 0.572\n"
     ]
    }
   ],
   "source": [
    "score.score(logreg_results, test_classes)"
   ]
  },
  {
   "cell_type": "markdown",
   "id": "9606dcce",
   "metadata": {},
   "source": [
    "Non-Binarized Naive Bayes Classifier Results"
   ]
  },
  {
   "cell_type": "code",
   "execution_count": 9,
   "id": "755f87fe",
   "metadata": {},
   "outputs": [
    {
     "name": "stdout",
     "output_type": "stream",
     "text": [
      "Current class: positive\n",
      "Precision: 0.371\n",
      "Recall: 0.371\n",
      "F1-Score: 0.371\n",
      "\n",
      "Current class: neutral\n",
      "Precision: 0.64\n",
      "Recall: 0.64\n",
      "F1-Score: 0.64\n",
      "\n",
      "Current class: negative\n",
      "Precision: 0.792\n",
      "Recall: 0.792\n",
      "F1-Score: 0.792\n",
      "\n",
      "Accuracy: 0.708\n",
      "Macro averaged P: 0.601\n",
      "Macro averaged R: 0.561\n",
      "Macro averaged F: 0.576\n"
     ]
    }
   ],
   "source": [
    "score.score(naivebayes_results, test_classes)"
   ]
  },
  {
   "cell_type": "markdown",
   "id": "875e1647",
   "metadata": {},
   "source": [
    "Binarized Naive Bayes Classifier Results (Each token only used once per document)"
   ]
  },
  {
   "cell_type": "code",
   "execution_count": 10,
   "id": "ebd43c0e",
   "metadata": {},
   "outputs": [
    {
     "name": "stdout",
     "output_type": "stream",
     "text": [
      "Current class: positive\n",
      "Precision: 0.388\n",
      "Recall: 0.388\n",
      "F1-Score: 0.388\n",
      "\n",
      "Current class: neutral\n",
      "Precision: 0.633\n",
      "Recall: 0.633\n",
      "F1-Score: 0.633\n",
      "\n",
      "Current class: negative\n",
      "Precision: 0.803\n",
      "Recall: 0.803\n",
      "F1-Score: 0.803\n",
      "\n",
      "Accuracy: 0.713\n",
      "Macro averaged P: 0.608\n",
      "Macro averaged R: 0.571\n",
      "Macro averaged F: 0.585\n"
     ]
    }
   ],
   "source": [
    "score.score(binary_naivebayes_results, test_classes)"
   ]
  }
 ],
 "metadata": {
  "kernelspec": {
   "display_name": "Python 3",
   "language": "python",
   "name": "python3"
  },
  "language_info": {
   "codemirror_mode": {
    "name": "ipython",
    "version": 3
   },
   "file_extension": ".py",
   "mimetype": "text/x-python",
   "name": "python",
   "nbconvert_exporter": "python",
   "pygments_lexer": "ipython3",
   "version": "3.13.1"
  }
 },
 "nbformat": 4,
 "nbformat_minor": 5
}
